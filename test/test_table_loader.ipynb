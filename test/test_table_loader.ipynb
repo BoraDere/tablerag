{
 "cells": [
  {
   "cell_type": "code",
   "execution_count": 4,
   "metadata": {},
   "outputs": [],
   "source": [
    "import pandas as pd\n",
    "import numpy as np\n",
    "\n",
    "row = []\n",
    "\n",
    "row.extend([\"@3\"] * 3)"
   ]
  },
  {
   "cell_type": "code",
   "execution_count": 5,
   "metadata": {},
   "outputs": [
    {
     "data": {
      "text/plain": [
       "['@3', '@3', '@3']"
      ]
     },
     "execution_count": 5,
     "metadata": {},
     "output_type": "execute_result"
    }
   ],
   "source": [
    "row"
   ]
  },
  {
   "cell_type": "code",
   "execution_count": 6,
   "metadata": {},
   "outputs": [],
   "source": [
    "evidence = {\n",
    "    'table': [\n",
    "        ['Personal information'],\n",
    "        ['Full name', 'Radim Řezník'],\n",
    "        ['Date of birth', ''],\n",
    "        ['Place of birth', 'Český Těšín, Czechoslovakia'],\n",
    "        ['Height', '1.80 m (5 ft 11 in)'],\n",
    "        ['Playing position(s)', 'Right back'],\n",
    "        ['Club information'],\n",
    "        ['Current team', 'Viktoria Plzeň'],\n",
    "        ['Number', '14'],\n",
    "        ['Youth career'],\n",
    "        ['', 'FC Těrlicko'],\n",
    "        ['1996–2001', 'FC Karviná'],\n",
    "        ['2001–2006', 'Baník Ostrava'],\n",
    "        ['Senior career*'],\n",
    "        ['Years', 'Team', 'Apps', ''],\n",
    "        ['2007–2011', 'Baník Ostrava', '97', ''],\n",
    "        ['2011–', 'Viktoria Plzeň', '187', ''],\n",
    "        ['National team'],\n",
    "        ['2007–2008', 'Czech Republic U-21', '5', ''],\n",
    "        ['2014–', 'Czech Republic', '2', ''],\n",
    "    ]\n",
    "}"
   ]
  },
  {
   "cell_type": "code",
   "execution_count": 14,
   "metadata": {},
   "outputs": [
    {
     "data": {
      "text/plain": [
       "2"
      ]
     },
     "execution_count": 14,
     "metadata": {},
     "output_type": "execute_result"
    }
   ],
   "source": [
    "len(evidence[\"table\"][2])"
   ]
  },
  {
   "cell_type": "code",
   "execution_count": 15,
   "metadata": {},
   "outputs": [
    {
     "data": {
      "text/plain": [
       "['Place of birth', 'Český Těšín, Czechoslovakia']"
      ]
     },
     "execution_count": 15,
     "metadata": {},
     "output_type": "execute_result"
    }
   ],
   "source": [
    "evidence[\"table\"][3]"
   ]
  },
  {
   "cell_type": "code",
   "execution_count": 17,
   "metadata": {},
   "outputs": [
    {
     "data": {
      "text/plain": [
       "1"
      ]
     },
     "execution_count": 17,
     "metadata": {},
     "output_type": "execute_result"
    }
   ],
   "source": [
    "import random\n",
    "\n",
    "rows = [\n",
    "    [1, 2, 3],\n",
    "    [4, 5, 6],\n",
    "]\n",
    "random_index, random_row = random.choice(list(enumerate(rows)))\n",
    "\n",
    "random_index"
   ]
  },
  {
   "cell_type": "code",
   "execution_count": 18,
   "metadata": {},
   "outputs": [
    {
     "data": {
      "text/plain": [
       "[4, 5, 6]"
      ]
     },
     "execution_count": 18,
     "metadata": {},
     "output_type": "execute_result"
    }
   ],
   "source": [
    "random_row"
   ]
  },
  {
   "cell_type": "code",
   "execution_count": null,
   "metadata": {},
   "outputs": [],
   "source": []
  }
 ],
 "metadata": {
  "kernelspec": {
   "display_name": "table_provider",
   "language": "python",
   "name": "python3"
  },
  "language_info": {
   "codemirror_mode": {
    "name": "ipython",
    "version": 3
   },
   "file_extension": ".py",
   "mimetype": "text/x-python",
   "name": "python",
   "nbconvert_exporter": "python",
   "pygments_lexer": "ipython3",
   "version": "3.10.10"
  },
  "orig_nbformat": 4
 },
 "nbformat": 4,
 "nbformat_minor": 2
}
