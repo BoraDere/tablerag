{
 "cells": [
  {
   "cell_type": "code",
   "execution_count": 2,
   "metadata": {},
   "outputs": [],
   "source": [
    "import recognizers_suite as Recognizers\n",
    "from recognizers_suite import Culture, ModelResult\n",
    "\n",
    "# Use English for the Recognizers culture\n",
    "culture = Culture.English\n",
    "\n",
    "results = Recognizers.recognize_number(\n",
    "    \"I have two apples and 3 oranges\", culture)\n",
    "\n",
    "results_2 = Recognizers.recognize_dimension(\"John Alice Bob\", culture)"
   ]
  },
  {
   "cell_type": "code",
   "execution_count": 3,
   "metadata": {},
   "outputs": [
    {
     "data": {
      "text/plain": [
       "[<recognizers_text.model.ModelResult at 0x2adaae24d60>,\n",
       " <recognizers_text.model.ModelResult at 0x2adaae24970>]"
      ]
     },
     "execution_count": 3,
     "metadata": {},
     "output_type": "execute_result"
    }
   ],
   "source": [
    "results"
   ]
  },
  {
   "cell_type": "code",
   "execution_count": 4,
   "metadata": {},
   "outputs": [],
   "source": [
    "import json\n",
    "\n",
    "json_dumps = json.dumps(results, default=lambda o: o.__dict__, indent=4)"
   ]
  },
  {
   "cell_type": "code",
   "execution_count": 5,
   "metadata": {},
   "outputs": [
    {
     "name": "stdout",
     "output_type": "stream",
     "text": [
      "[\n",
      "    {\n",
      "        \"start\": 7,\n",
      "        \"end\": 9,\n",
      "        \"resolution\": {\n",
      "            \"value\": \"2\"\n",
      "        },\n",
      "        \"text\": \"two\",\n",
      "        \"type_name\": \"number\"\n",
      "    },\n",
      "    {\n",
      "        \"start\": 22,\n",
      "        \"end\": 22,\n",
      "        \"resolution\": {\n",
      "            \"value\": \"3\"\n",
      "        },\n",
      "        \"text\": \"3\",\n",
      "        \"type_name\": \"number\"\n",
      "    }\n",
      "]\n",
      "<class 'str'>\n"
     ]
    }
   ],
   "source": [
    "print(json_dumps)\n",
    "print(type(json_dumps))"
   ]
  },
  {
   "cell_type": "code",
   "execution_count": 6,
   "metadata": {},
   "outputs": [
    {
     "data": {
      "text/plain": [
       "list"
      ]
     },
     "execution_count": 6,
     "metadata": {},
     "output_type": "execute_result"
    }
   ],
   "source": [
    "type(results)"
   ]
  },
  {
   "cell_type": "code",
   "execution_count": 7,
   "metadata": {},
   "outputs": [
    {
     "data": {
      "text/plain": [
       "recognizers_text.model.ModelResult"
      ]
     },
     "execution_count": 7,
     "metadata": {},
     "output_type": "execute_result"
    }
   ],
   "source": [
    "type(results[0])"
   ]
  },
  {
   "cell_type": "code",
   "execution_count": 8,
   "metadata": {},
   "outputs": [
    {
     "data": {
      "text/plain": [
       "'number'"
      ]
     },
     "execution_count": 8,
     "metadata": {},
     "output_type": "execute_result"
    }
   ],
   "source": [
    "results[0].type_name"
   ]
  },
  {
   "cell_type": "code",
   "execution_count": 9,
   "metadata": {},
   "outputs": [
    {
     "data": {
      "text/plain": [
       "[]"
      ]
     },
     "execution_count": 9,
     "metadata": {},
     "output_type": "execute_result"
    }
   ],
   "source": [
    "results_2"
   ]
  },
  {
   "cell_type": "code",
   "execution_count": 10,
   "metadata": {},
   "outputs": [],
   "source": [
    "import pandas as pd\n",
    "\n",
    "data = {\n",
    "    'name': ['John', 'Alice', 'Bob'],\n",
    "    'age': [25, 30, 35],\n",
    "    'height': [175.5, 162.0, 180.3],\n",
    "    'is_student': [True, False, True],\n",
    "    'grades': ['A', 'B+', 'A-'],\n",
    "    'birth_date': pd.to_datetime(['1995-03-15', '1990-09-22', '1988-06-10']),\n",
    "}\n",
    "df = pd.DataFrame(data)"
   ]
  },
  {
   "cell_type": "code",
   "execution_count": 22,
   "metadata": {},
   "outputs": [
    {
     "name": "stdout",
     "output_type": "stream",
     "text": [
      "<class 'list'>\n",
      "<class 'list'>\n",
      "<class 'list'>\n",
      "<class 'list'>\n",
      "<class 'list'>\n",
      "<class 'list'>\n"
     ]
    }
   ],
   "source": [
    "for header in df.columns:\n",
    "    x = df[header][:2].to_list()\n",
    "    print(type(df[header][:2].to()))"
   ]
  },
  {
   "cell_type": "code",
   "execution_count": 23,
   "metadata": {},
   "outputs": [
    {
     "data": {
      "text/plain": [
       "[Timestamp('1995-03-15 00:00:00'), Timestamp('1990-09-22 00:00:00')]"
      ]
     },
     "execution_count": 23,
     "metadata": {},
     "output_type": "execute_result"
    }
   ],
   "source": [
    "x"
   ]
  },
  {
   "cell_type": "code",
   "execution_count": 26,
   "metadata": {},
   "outputs": [
    {
     "ename": "AttributeError",
     "evalue": "'Timestamp' object has no attribute 'to_string'",
     "output_type": "error",
     "traceback": [
      "\u001b[1;31m---------------------------------------------------------------------------\u001b[0m",
      "\u001b[1;31mAttributeError\u001b[0m                            Traceback (most recent call last)",
      "Cell \u001b[1;32mIn[26], line 1\u001b[0m\n\u001b[1;32m----> 1\u001b[0m \u001b[39mtype\u001b[39m(x[\u001b[39m0\u001b[39;49m]\u001b[39m.\u001b[39;49mto_string())\n",
      "\u001b[1;31mAttributeError\u001b[0m: 'Timestamp' object has no attribute 'to_string'"
     ]
    }
   ],
   "source": [
    "type(x[0])"
   ]
  },
  {
   "cell_type": "code",
   "execution_count": 21,
   "metadata": {},
   "outputs": [
    {
     "ename": "TypeError",
     "evalue": "sequence item 0: expected str instance, Timestamp found",
     "output_type": "error",
     "traceback": [
      "\u001b[1;31m---------------------------------------------------------------------------\u001b[0m",
      "\u001b[1;31mTypeError\u001b[0m                                 Traceback (most recent call last)",
      "Cell \u001b[1;32mIn[21], line 1\u001b[0m\n\u001b[1;32m----> 1\u001b[0m \u001b[39m\"\u001b[39;49m\u001b[39m|\u001b[39;49m\u001b[39m\"\u001b[39;49m\u001b[39m.\u001b[39;49mjoin(x)\n",
      "\u001b[1;31mTypeError\u001b[0m: sequence item 0: expected str instance, Timestamp found"
     ]
    }
   ],
   "source": [
    "\"|\".join(x)"
   ]
  },
  {
   "cell_type": "code",
   "execution_count": 2,
   "metadata": {},
   "outputs": [],
   "source": [
    "import pandas as pd\n",
    "\n",
    "hourly_interval = pd.date_range(start='2023-01-01', end='2023-01-31', freq='H')\n",
    "hourly_df = pd.DataFrame({'timestamp': hourly_interval})\n",
    "\n",
    "daily_interval = pd.date_range(start='2023-01-01', end='2023-12-31', freq='D')\n",
    "daily_df = pd.DataFrame({'timestamp': daily_interval})\n",
    "\n",
    "weekly_interval = pd.date_range(start='2023-01-01', end='2023-12-31', freq='W')\n",
    "weekly_df = pd.DataFrame({'timestamp': weekly_interval})\n",
    "\n",
    "monthly_interval = pd.date_range(start='2023-01-01', end='2023-12-31', freq='M')\n",
    "monthly_df = pd.DataFrame({'timestamp': monthly_interval})"
   ]
  },
  {
   "cell_type": "code",
   "execution_count": 4,
   "metadata": {},
   "outputs": [
    {
     "data": {
      "text/html": [
       "<div>\n",
       "<style scoped>\n",
       "    .dataframe tbody tr th:only-of-type {\n",
       "        vertical-align: middle;\n",
       "    }\n",
       "\n",
       "    .dataframe tbody tr th {\n",
       "        vertical-align: top;\n",
       "    }\n",
       "\n",
       "    .dataframe thead th {\n",
       "        text-align: right;\n",
       "    }\n",
       "</style>\n",
       "<table border=\"1\" class=\"dataframe\">\n",
       "  <thead>\n",
       "    <tr style=\"text-align: right;\">\n",
       "      <th></th>\n",
       "      <th>timestamp</th>\n",
       "    </tr>\n",
       "  </thead>\n",
       "  <tbody>\n",
       "    <tr>\n",
       "      <th>0</th>\n",
       "      <td>2023-01-01 00:00:00</td>\n",
       "    </tr>\n",
       "    <tr>\n",
       "      <th>1</th>\n",
       "      <td>2023-01-01 01:00:00</td>\n",
       "    </tr>\n",
       "    <tr>\n",
       "      <th>2</th>\n",
       "      <td>2023-01-01 02:00:00</td>\n",
       "    </tr>\n",
       "    <tr>\n",
       "      <th>3</th>\n",
       "      <td>2023-01-01 03:00:00</td>\n",
       "    </tr>\n",
       "    <tr>\n",
       "      <th>4</th>\n",
       "      <td>2023-01-01 04:00:00</td>\n",
       "    </tr>\n",
       "    <tr>\n",
       "      <th>...</th>\n",
       "      <td>...</td>\n",
       "    </tr>\n",
       "    <tr>\n",
       "      <th>716</th>\n",
       "      <td>2023-01-30 20:00:00</td>\n",
       "    </tr>\n",
       "    <tr>\n",
       "      <th>717</th>\n",
       "      <td>2023-01-30 21:00:00</td>\n",
       "    </tr>\n",
       "    <tr>\n",
       "      <th>718</th>\n",
       "      <td>2023-01-30 22:00:00</td>\n",
       "    </tr>\n",
       "    <tr>\n",
       "      <th>719</th>\n",
       "      <td>2023-01-30 23:00:00</td>\n",
       "    </tr>\n",
       "    <tr>\n",
       "      <th>720</th>\n",
       "      <td>2023-01-31 00:00:00</td>\n",
       "    </tr>\n",
       "  </tbody>\n",
       "</table>\n",
       "<p>721 rows × 1 columns</p>\n",
       "</div>"
      ],
      "text/plain": [
       "              timestamp\n",
       "0   2023-01-01 00:00:00\n",
       "1   2023-01-01 01:00:00\n",
       "2   2023-01-01 02:00:00\n",
       "3   2023-01-01 03:00:00\n",
       "4   2023-01-01 04:00:00\n",
       "..                  ...\n",
       "716 2023-01-30 20:00:00\n",
       "717 2023-01-30 21:00:00\n",
       "718 2023-01-30 22:00:00\n",
       "719 2023-01-30 23:00:00\n",
       "720 2023-01-31 00:00:00\n",
       "\n",
       "[721 rows x 1 columns]"
      ]
     },
     "execution_count": 4,
     "metadata": {},
     "output_type": "execute_result"
    }
   ],
   "source": [
    "hourly_df"
   ]
  },
  {
   "cell_type": "code",
   "execution_count": 7,
   "metadata": {},
   "outputs": [
    {
     "name": "stdout",
     "output_type": "stream",
     "text": [
      "            value\n",
      "timestamp        \n",
      "2023-01-01     10\n",
      "2023-01-02     20\n",
      "2023-01-03     15\n",
      "2023-01-04     30\n",
      "2023-01-05     25\n",
      "D\n"
     ]
    }
   ],
   "source": [
    "import pandas as pd\n",
    "\n",
    "# 创建示例 DataFrame\n",
    "df = pd.DataFrame(\n",
    "    {\n",
    "        'timestamp': [\n",
    "            '2023-01-01',\n",
    "            '2023-01-02',\n",
    "            '2023-01-03',\n",
    "            '2023-01-04',\n",
    "            '2023-01-05',\n",
    "        ],\n",
    "        'value': [10, 20, 15, 30, 25],\n",
    "    }\n",
    ")\n",
    "\n",
    "# 将 'timestamp' 列转换为日期时间类型\n",
    "# df['timestamp'] = pd.to_datetime(df['timestamp'])\n",
    "\n",
    "# 设置 'timestamp' 列为索引\n",
    "df.set_index('timestamp', inplace=True)\n",
    "\n",
    "print(df)\n",
    "# 推断频率\n",
    "freq = pd.infer_freq(df.index)\n",
    "\n",
    "print(freq)"
   ]
  },
  {
   "cell_type": "code",
   "execution_count": 28,
   "metadata": {},
   "outputs": [],
   "source": [
    "import pandas as pd\n",
    "import json\n",
    "\n",
    "data = {\n",
    "    \"round\": [\n",
    "        \"first round\",\n",
    "        \"second round\",\n",
    "        \"semi-finals\",\n",
    "        \"final\",\n",
    "        \"third round\",\n",
    "        \"fifth round\",\n",
    "        \"group stage\",\n",
    "        \"fourth round\",\n",
    "    ],\n",
    "    \"clubs remaining\": [\"156\", \"113\", \"4\", \"2\", \"59\", \"16\", \"8\", \"32\"],\n",
    "    \"clubs involved\": [\"86\", \"108\", \"4\", \"2\", \"54\", \"16\", \"8\", \"32\"],\n",
    "    \"winners from previous round\": [\"none\", \"43\", \"4\", \"2\", \"54\", \"16\", \"8\", \"27\"],\n",
    "    \"new entries this round\": [\"86\", \"65\", \"none\", \"none\", \"none\", \"none\", \"none\", \"5\"],\n",
    "    \"leagues entering at this round\": [\n",
    "        \"tff third league & turkish regional amateur league\",\n",
    "        \"süper lig & tff first league & tff second league\",\n",
    "        \"none\",\n",
    "        \"none\",\n",
    "        \"none\",\n",
    "        \"none\",\n",
    "        \"none\",\n",
    "        \"süper lig\",\n",
    "    ],\n",
    "}\n",
    "\n",
    "# Generate a time series column\n",
    "start_date = pd.to_datetime('2023-01-01')\n",
    "end_date = pd.to_datetime('2023-01-08')\n",
    "timestamps = pd.date_range(start=start_date, end=end_date, freq='D')\n",
    "\n",
    "# Add the time series column to the data dictionary\n",
    "data['timestamp'] = [str(ts) for ts in timestamps]\n",
    "# Create the DataFrame\n",
    "df = pd.DataFrame(data)\n",
    "\n",
    "# Save the DataFrame as a JSON file\n",
    "\n",
    "pair = df.to_dict(orient='list')\n",
    "\n",
    "with open('../examples/test_time_series.json', 'w') as f:\n",
    "    json.dump(pair, f)"
   ]
  },
  {
   "cell_type": "code",
   "execution_count": 9,
   "metadata": {},
   "outputs": [
    {
     "name": "stdout",
     "output_type": "stream",
     "text": [
      " Volume in drive C is OSDisk\n",
      " Volume Serial Number is 041E-0131\n",
      "\n",
      " Directory of c:\\Users\\v-yuansui\\Workspace\\TableProvider\\test\\agents\n",
      "\n",
      "05/22/2023  08:56 PM    <DIR>          .\n",
      "05/24/2023  05:20 PM    <DIR>          ..\n",
      "05/19/2023  01:13 PM                 0 __init__.py\n",
      "05/22/2023  08:57 PM    <DIR>          __pycache__\n",
      "05/19/2023  01:12 PM             7,115 test_agents.ipynb\n",
      "05/24/2023  05:18 PM             5,197 test_agents.py\n",
      "               3 File(s)         12,312 bytes\n",
      "               3 Dir(s)  41,777,041,408 bytes free\n"
     ]
    }
   ],
   "source": [
    "ls"
   ]
  },
  {
   "cell_type": "code",
   "execution_count": null,
   "metadata": {},
   "outputs": [],
   "source": []
  }
 ],
 "metadata": {
  "kernelspec": {
   "display_name": "OpenAI",
   "language": "python",
   "name": "python3"
  },
  "language_info": {
   "codemirror_mode": {
    "name": "ipython",
    "version": 3
   },
   "file_extension": ".py",
   "mimetype": "text/x-python",
   "name": "python",
   "nbconvert_exporter": "python",
   "pygments_lexer": "ipython3",
   "version": "3.9.16"
  },
  "orig_nbformat": 4
 },
 "nbformat": 4,
 "nbformat_minor": 2
}
